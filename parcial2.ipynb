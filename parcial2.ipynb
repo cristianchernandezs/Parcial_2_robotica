{
 "cells": [
  {
   "cell_type": "markdown",
   "metadata": {},
   "source": [
    "importar librerias"
   ]
  },
  {
   "cell_type": "code",
   "execution_count": 83,
   "metadata": {},
   "outputs": [],
   "source": [
    "from roboticstoolbox import DHRobot,RevoluteDH,PrismaticDH\n",
    "import roboticstoolbox as rtb\n",
    "import numpy as np\n",
    "from math import pi\n",
    "import matplotlib.pyplot as plt\n",
    "from spatialmath import *"
   ]
  },
  {
   "cell_type": "markdown",
   "metadata": {},
   "source": [
    "importar el robot de la libreria y visualizarlo"
   ]
  },
  {
   "cell_type": "code",
   "execution_count": 84,
   "metadata": {},
   "outputs": [],
   "source": [
    "import roboticstoolbox as rtb\n",
    "robot = rtb.models.UR5()"
   ]
  },
  {
   "cell_type": "markdown",
   "metadata": {},
   "source": [
    " descripción de este robot"
   ]
  },
  {
   "cell_type": "code",
   "execution_count": 85,
   "metadata": {},
   "outputs": [
    {
     "name": "stdout",
     "output_type": "stream",
     "text": [
      "ERobot: UR5 (by Universal Robotics), 6 joints (RRRRRR), 2 branches, dynamics, geometry, collision\n",
      "┌───┬────────────────┬───────┬────────────────┬──────────────────────────────────────────────────────────────────────┐\n",
      "│id │      link      │ joint │     parent     │                                 ETS                                  │\n",
      "├───┼────────────────┼───────┼────────────────┼──────────────────────────────────────────────────────────────────────┤\n",
      "│11\u001b[0m │ \u001b[38;5;4mworld\u001b[0m          │      \u001b[0m │ BASE\u001b[0m           │ {world} = {BASE}\u001b[0m                                                     │\n",
      "│ 1\u001b[0m │ \u001b[38;5;4mbase_link\u001b[0m      │      \u001b[0m │ world\u001b[0m          │ {base_link} = {world}\u001b[0m                                                │\n",
      "│ 2\u001b[0m │ shoulder_link\u001b[0m  │     0\u001b[0m │ base_link\u001b[0m      │ {shoulder_link} = {base_link} ⊕ tz(0.08916) ⊕ Rz(q0)\u001b[0m                 │\n",
      "│ 3\u001b[0m │ upper_arm_link\u001b[0m │     1\u001b[0m │ shoulder_link\u001b[0m  │ {upper_arm_link} = {shoulder_link} ⊕ ty(0.1358) ⊕ Ry(90°) ⊕ Ry(q1)\u001b[0m   │\n",
      "│ 4\u001b[0m │ forearm_link\u001b[0m   │     2\u001b[0m │ upper_arm_link\u001b[0m │ {forearm_link} = {upper_arm_link} ⊕ ty(-0.1197) ⊕ tz(0.425) ⊕ Ry(q2)\u001b[0m │\n",
      "│ 5\u001b[0m │ wrist_1_link\u001b[0m   │     3\u001b[0m │ forearm_link\u001b[0m   │ {wrist_1_link} = {forearm_link} ⊕ tz(0.3922) ⊕ Ry(90°) ⊕ Ry(q3)\u001b[0m      │\n",
      "│ 6\u001b[0m │ wrist_2_link\u001b[0m   │     4\u001b[0m │ wrist_1_link\u001b[0m   │ {wrist_2_link} = {wrist_1_link} ⊕ ty(0.093) ⊕ Rz(q4)\u001b[0m                 │\n",
      "│ 7\u001b[0m │ @wrist_3_link\u001b[0m  │     5\u001b[0m │ wrist_2_link\u001b[0m   │ {wrist_3_link} = {wrist_2_link} ⊕ tz(0.09465) ⊕ Ry(q5)\u001b[0m               │\n",
      "│10\u001b[0m │ \u001b[38;5;4mtool0\u001b[0m          │      \u001b[0m │ wrist_3_link\u001b[0m   │ {tool0} = {wrist_3_link} ⊕ ty(0.0823) ⊕ Rx(-90°)\u001b[0m                     │\n",
      "│ 9\u001b[0m │ \u001b[38;5;4mbase\u001b[0m           │      \u001b[0m │ base_link\u001b[0m      │ {base} = {base_link} ⊕ Rz(-180°)\u001b[0m                                     │\n",
      "└───┴────────────────┴───────┴────────────────┴──────────────────────────────────────────────────────────────────────┘\n",
      "\n",
      "┌─────┬────────┬────────┬────────┬──────┬────────┬─────┐\n",
      "│name │ q0     │ q1     │ q2     │ q3   │ q4     │ q5  │\n",
      "├─────┼────────┼────────┼────────┼──────┼────────┼─────┤\n",
      "│  qz\u001b[0m │  0°\u001b[0m    │  0°\u001b[0m    │  0°\u001b[0m    │  0°\u001b[0m  │  0°\u001b[0m    │  0°\u001b[0m │\n",
      "│  qr\u001b[0m │  180°\u001b[0m  │  0°\u001b[0m    │  0°\u001b[0m    │  0°\u001b[0m  │  90°\u001b[0m   │  0°\u001b[0m │\n",
      "│  qn\u001b[0m │ -40.4°\u001b[0m │  20.7°\u001b[0m │ -85.6°\u001b[0m │  65°\u001b[0m │ -40.4°\u001b[0m │  0°\u001b[0m │\n",
      "└─────┴────────┴────────┴────────┴──────┴────────┴─────┘\n",
      "\n",
      "[ELink(world, ets=, m=0, Jm=0, B=0, G=0), ELink(base_link, ets=, parent=world, m=4, I=[0.00443, 0.00443, 0.0072, 0, 0, 0], Jm=0, B=0, G=0), ELink(shoulder_link, ets=tz(0.08916) ⊕ Rz(q), parent=base_link, qlim=[-3.14, 3.14], m=3.7, I=[0.0103, 0.0103, 0.00666, 0, 0, 0], Jm=0, B=0, G=0), ELink(upper_arm_link, ets=ty(0.1358) ⊕ Ry(90°) ⊕ Ry(q), parent=shoulder_link, qlim=[-3.14, 3.14], m=8.39, r=[0, 0, 0.28], I=[0.227, 0.227, 0.0151, 0, 0, 0], Jm=0, B=0, G=0), ELink(forearm_link, ets=ty(-0.1197) ⊕ tz(0.425) ⊕ Ry(q), parent=upper_arm_link, qlim=[-3.14, 3.14], m=2.27, r=[0, 0, 0.196], I=[0.0312, 0.0312, 0.00409, 0, 0, 0], Jm=0, B=0, G=0), ELink(wrist_1_link, ets=tz(0.3922) ⊕ Ry(90°) ⊕ Ry(q), parent=forearm_link, qlim=[-3.14, 3.14], m=1.22, r=[0, 0.093, 0], I=[0.00256, 0.00256, 0.00219, 0, 0, 0], Jm=0, B=0, G=0), ELink(wrist_2_link, ets=ty(0.093) ⊕ Rz(q), parent=wrist_1_link, qlim=[-3.14, 3.14], m=1.22, r=[0, 0, 0.0946], I=[0.00256, 0.00256, 0.00219, 0, 0, 0], Jm=0, B=0, G=0), ELink(wrist_3_link, ets=tz(0.09465) ⊕ Ry(q), parent=wrist_2_link, qlim=[-3.14, 3.14], m=0.188, r=[0, 0.065, 0], I=[8.47e-05, 8.47e-05, 0.000132, 0, 0, 0], Jm=0, B=0, G=0), ELink(tool0, ets=ty(0.0823) ⊕ Rx(-90°), parent=wrist_3_link, m=0, Jm=0, B=0, G=0), ELink(base, ets=Rz(-180°), parent=base_link, m=0, Jm=0, B=0, G=0)]\n",
      "[3.14159265 0.         0.         0.         1.57079633 0.        ]\n"
     ]
    }
   ],
   "source": [
    "print(robot)\n",
    "print(robot.links)\n",
    "print(robot.qr)"
   ]
  },
  {
   "cell_type": "code",
   "execution_count": 5,
   "metadata": {},
   "outputs": [
    {
     "ename": "KeyboardInterrupt",
     "evalue": "",
     "output_type": "error",
     "traceback": [
      "\u001b[1;31m---------------------------------------------------------------------------\u001b[0m",
      "\u001b[1;31mKeyboardInterrupt\u001b[0m                         Traceback (most recent call last)",
      "\u001b[1;32m<ipython-input-5-ed74992501ab>\u001b[0m in \u001b[0;36m<module>\u001b[1;34m\u001b[0m\n\u001b[1;32m----> 1\u001b[1;33m \u001b[0mrobot\u001b[0m\u001b[1;33m.\u001b[0m\u001b[0mplot\u001b[0m\u001b[1;33m(\u001b[0m\u001b[0mrobot\u001b[0m\u001b[1;33m.\u001b[0m\u001b[0mqr\u001b[0m\u001b[1;33m,\u001b[0m\u001b[0mbackend\u001b[0m\u001b[1;33m=\u001b[0m\u001b[1;34m'swift'\u001b[0m\u001b[1;33m,\u001b[0m\u001b[0mblock\u001b[0m\u001b[1;33m=\u001b[0m\u001b[1;32mTrue\u001b[0m\u001b[1;33m)\u001b[0m\u001b[1;33m\u001b[0m\u001b[1;33m\u001b[0m\u001b[0m\n\u001b[0m",
      "\u001b[1;32m~\\anaconda3\\lib\\site-packages\\roboticstoolbox\\robot\\Robot.py\u001b[0m in \u001b[0;36mplot\u001b[1;34m(self, q, backend, block, dt, limits, vellipse, fellipse, fig, movie, loop, **kwargs)\u001b[0m\n\u001b[0;32m   1460\u001b[0m         \u001b[1;31m# Keep the plot open\u001b[0m\u001b[1;33m\u001b[0m\u001b[1;33m\u001b[0m\u001b[1;33m\u001b[0m\u001b[0m\n\u001b[0;32m   1461\u001b[0m         \u001b[1;32mif\u001b[0m \u001b[0mblock\u001b[0m\u001b[1;33m:\u001b[0m  \u001b[1;31m# pragma: no cover\u001b[0m\u001b[1;33m\u001b[0m\u001b[1;33m\u001b[0m\u001b[0m\n\u001b[1;32m-> 1462\u001b[1;33m             \u001b[0menv\u001b[0m\u001b[1;33m.\u001b[0m\u001b[0mhold\u001b[0m\u001b[1;33m(\u001b[0m\u001b[1;33m)\u001b[0m\u001b[1;33m\u001b[0m\u001b[1;33m\u001b[0m\u001b[0m\n\u001b[0m\u001b[0;32m   1463\u001b[0m \u001b[1;33m\u001b[0m\u001b[0m\n\u001b[0;32m   1464\u001b[0m         \u001b[1;32mreturn\u001b[0m \u001b[0menv\u001b[0m\u001b[1;33m\u001b[0m\u001b[1;33m\u001b[0m\u001b[0m\n",
      "\u001b[1;32m~\\anaconda3\\lib\\site-packages\\swift\\Swift.py\u001b[0m in \u001b[0;36mhold\u001b[1;34m(self)\u001b[0m\n\u001b[0;32m    432\u001b[0m \u001b[1;33m\u001b[0m\u001b[0m\n\u001b[0;32m    433\u001b[0m         \u001b[1;32mwhile\u001b[0m \u001b[1;32mTrue\u001b[0m\u001b[1;33m:\u001b[0m\u001b[1;33m\u001b[0m\u001b[1;33m\u001b[0m\u001b[0m\n\u001b[1;32m--> 434\u001b[1;33m             \u001b[0mtime\u001b[0m\u001b[1;33m.\u001b[0m\u001b[0msleep\u001b[0m\u001b[1;33m(\u001b[0m\u001b[1;36m1\u001b[0m\u001b[1;33m)\u001b[0m\u001b[1;33m\u001b[0m\u001b[1;33m\u001b[0m\u001b[0m\n\u001b[0m\u001b[0;32m    435\u001b[0m \u001b[1;33m\u001b[0m\u001b[0m\n\u001b[0;32m    436\u001b[0m     \u001b[1;32mdef\u001b[0m \u001b[0mstart_recording\u001b[0m\u001b[1;33m(\u001b[0m\u001b[0mself\u001b[0m\u001b[1;33m,\u001b[0m \u001b[0mfile_name\u001b[0m\u001b[1;33m,\u001b[0m \u001b[0mframerate\u001b[0m\u001b[1;33m,\u001b[0m \u001b[0mformat\u001b[0m\u001b[1;33m=\u001b[0m\u001b[1;34m\"webm\"\u001b[0m\u001b[1;33m)\u001b[0m\u001b[1;33m:\u001b[0m\u001b[1;33m\u001b[0m\u001b[1;33m\u001b[0m\u001b[0m\n",
      "\u001b[1;31mKeyboardInterrupt\u001b[0m: "
     ]
    }
   ],
   "source": [
    "robot.plot(robot.qr,backend='swift',block=True)"
   ]
  },
  {
   "cell_type": "code",
   "execution_count": 86,
   "metadata": {},
   "outputs": [
    {
     "name": "stdout",
     "output_type": "stream",
     "text": [
      "[0. 0. 0. 0. 0. 0.]\n"
     ]
    },
    {
     "data": {
      "text/plain": [
       "Swift backend, t = 0.05, scene:\n",
       "  UR5"
      ]
     },
     "execution_count": 86,
     "metadata": {},
     "output_type": "execute_result"
    }
   ],
   "source": [
    "print(robot.qz)\n",
    "robot.plot(robot.qz)"
   ]
  },
  {
   "cell_type": "code",
   "execution_count": 87,
   "metadata": {},
   "outputs": [
    {
     "name": "stdout",
     "output_type": "stream",
     "text": [
      "[0. 0. 0. 0. 0. 0.]\n"
     ]
    },
    {
     "data": {
      "text/plain": [
       "  \u001b[38;5;1m 0       \u001b[0m \u001b[38;5;1m 1       \u001b[0m \u001b[38;5;1m 0       \u001b[0m \u001b[38;5;4m 0.8173  \u001b[0m  \u001b[0m\n",
       "  \u001b[38;5;1m 1       \u001b[0m \u001b[38;5;1m 0       \u001b[0m \u001b[38;5;1m 0       \u001b[0m \u001b[38;5;4m 0.1915  \u001b[0m  \u001b[0m\n",
       "  \u001b[38;5;1m 0       \u001b[0m \u001b[38;5;1m 0       \u001b[0m \u001b[38;5;1m-1       \u001b[0m \u001b[38;5;4m-0.005491\u001b[0m  \u001b[0m\n",
       "  \u001b[38;5;244m 0       \u001b[0m \u001b[38;5;244m 0       \u001b[0m \u001b[38;5;244m 0       \u001b[0m \u001b[38;5;244m 1       \u001b[0m  \u001b[0m\n"
      ]
     },
     "execution_count": 87,
     "metadata": {},
     "output_type": "execute_result"
    }
   ],
   "source": [
    "print(robot.qz)\n",
    "T = robot.fkine(robot.qz)#posicion inicial gripper\n",
    "T"
   ]
  },
  {
   "cell_type": "code",
   "execution_count": 88,
   "metadata": {},
   "outputs": [
    {
     "name": "stdout",
     "output_type": "stream",
     "text": [
      "  \u001b[38;5;1m 0       \u001b[0m \u001b[38;5;1m 1       \u001b[0m \u001b[38;5;1m 0       \u001b[0m \u001b[38;5;4m 0.8173  \u001b[0m  \u001b[0m\n",
      "  \u001b[38;5;1m 1       \u001b[0m \u001b[38;5;1m 0       \u001b[0m \u001b[38;5;1m 0       \u001b[0m \u001b[38;5;4m 0.1915  \u001b[0m  \u001b[0m\n",
      "  \u001b[38;5;1m 0       \u001b[0m \u001b[38;5;1m 0       \u001b[0m \u001b[38;5;1m-1       \u001b[0m \u001b[38;5;4m-0.005491\u001b[0m  \u001b[0m\n",
      "  \u001b[38;5;244m 0       \u001b[0m \u001b[38;5;244m 0       \u001b[0m \u001b[38;5;244m 0       \u001b[0m \u001b[38;5;244m 1       \u001b[0m  \u001b[0m\n",
      "\n"
     ]
    }
   ],
   "source": [
    "sol2=robot.ikine_LM(T,mask=[1,1,1,0,0,0]) #posicion inicial motores\n",
    "#print(sol2)\n",
    "if sol2.success:\n",
    "    print(robot.fkine(sol2.q))#verifica que de igual a la posicion del gripper\n",
    "   \n",
    "else:\n",
    "    print(\"solution not available\")"
   ]
  },
  {
   "cell_type": "markdown",
   "metadata": {},
   "source": [
    "describir la trayectoria que el robot debe seguir para que haga la letra J"
   ]
  },
  {
   "cell_type": "code",
   "execution_count": 89,
   "metadata": {},
   "outputs": [],
   "source": [
    "ti=100\n",
    "punto1=SE3(  x=300, y=255, z=200 )\n",
    "punto2=SE3(  x=300, y=255, z=85)\n",
    "punto3=SE3( x=370, y=255, z=85 )\n",
    "punto4=SE3( x=370, y=255, z=600 )\n",
    "punto5=SE3( x=340, y=255, z=600 )\n",
    "punto6=SE3( x=390, y=255, z=600 )"
   ]
  },
  {
   "cell_type": "code",
   "execution_count": 90,
   "metadata": {},
   "outputs": [],
   "source": [
    "x1=rtb.ctraj(punto4, punto3, 133)\n",
    "x2=rtb.ctraj(punto3, punto2, 133)\n",
    "x3=rtb.ctraj(punto2, punto1, 133)\n",
    "x4=rtb.ctraj(punto5, punto6, 133)"
   ]
  },
  {
   "cell_type": "markdown",
   "metadata": {},
   "source": [
    "imprime las cordenadas cartesianas "
   ]
  },
  {
   "cell_type": "code",
   "execution_count": 91,
   "metadata": {},
   "outputs": [
    {
     "data": {
      "image/png": "[encoded data removed]",
      "text/plain": [
       "<Figure size 432x288 with 1 Axes>"
      ]
     },
     "metadata": {},
     "output_type": "display_data"
    }
   ],
   "source": [
    "x1.plot()\n",
    "x2.plot()\n",
    "x3.plot()\n",
    "x4.plot()"
   ]
  },
  {
   "cell_type": "markdown",
   "metadata": {},
   "source": [
    "se pasan las coordenadas de mm a cm, y se calculan nuevamente las coordenadas cartesianas"
   ]
  },
  {
   "cell_type": "code",
   "execution_count": 93,
   "metadata": {},
   "outputs": [],
   "source": [
    "P1=SE3(x=3.0,y=2.5,z=2.0)\n",
    "P2=SE3(x=3.0,y=2.5,z=0.8)\n",
    "P3=SE3(x=3.7,y=2.5,z=0.8)\n",
    "P4=SE3(x=3.7,y=2.5,z=6.0)\n",
    "P5=SE3(x=3.4,y=2.5,z=6.0)\n",
    "P6=SE3(x=3.9,y=2.5,z=6.0)\n"
   ]
  },
  {
   "cell_type": "code",
   "execution_count": 94,
   "metadata": {},
   "outputs": [],
   "source": [
    "TrayC1=rtb.ctraj(P4, P3, 50)\n",
    "TrayC2=rtb.ctraj(P3, P2, 50)\n",
    "TrayC3=rtb.ctraj(P2, P1, 50)\n",
    "TrayC4=rtb.ctraj(P5, P6, 50)"
   ]
  },
  {
   "cell_type": "markdown",
   "metadata": {},
   "source": [
    "se calcula la cinematica inversa, para obtener los valores que debe tomar cada una de las articulaciones"
   ]
  },
  {
   "cell_type": "code",
   "execution_count": 95,
   "metadata": {},
   "outputs": [],
   "source": [
    "InvertrayecC1=robot.ikine_min(TrayC1)\n",
    "InvertrayecC2=robot.ikine_min(TrayC2)\n",
    "InvertrayecC3=robot.ikine_min(TrayC3)\n",
    "InvertrayecC4=robot.ikine_min(TrayC4)"
   ]
  },
  {
   "cell_type": "code",
   "execution_count": 97,
   "metadata": {},
   "outputs": [
    {
     "name": "stdout",
     "output_type": "stream",
     "text": [
      "[IKsolution(q=array([-2.31353637e+00, -3.23410319e+05, -3.23408114e+05, -3.23402797e+05,  8.25361189e-01, -3.23408093e+05]), success=True, reason='Optimization terminated successfully', iterations=37, residual=22.95138332020325), IKsolution(q=array([-2.31364208e+00, -3.23410320e+05, -3.23408114e+05, -3.23402796e+05,  8.25441913e-01, -3.23408093e+05]), success=True, reason='Optimization terminated successfully', iterations=12, residual=22.923787857843635), IKsolution(q=array([-2.31395876e+00, -3.23410321e+05, -3.23408114e+05, -3.23402796e+05,  8.25683370e-01, -3.23408093e+05]), success=True, reason='Optimization terminated successfully', iterations=18, residual=22.841151218108237), IKsolution(q=array([-2.31448646e+00, -3.23410323e+05, -3.23408114e+05, -3.23402794e+05,  8.26086498e-01, -3.23408093e+05]), success=True, reason='Optimization terminated successfully', iterations=15, residual=22.70392253809896), IKsolution(q=array([-2.31522465e+00, -3.23410326e+05, -3.23408114e+05, -3.23402792e+05,  8.26650879e-01, -3.23408092e+05]), success=True, reason='Optimization terminated successfully', iterations=11, residual=22.512850027243463), IKsolution(q=array([-2.31617219e+00, -3.23410330e+05, -3.23408114e+05, -3.23402790e+05,  8.27375990e-01, -3.23408091e+05]), success=True, reason='Optimization terminated successfully', iterations=18, residual=22.268980429330618), IKsolution(q=array([-2.31732856e+00, -3.23410334e+05, -3.23408114e+05, -3.23402787e+05,  8.28262551e-01, -3.23408090e+05]), success=True, reason='Optimization terminated successfully', iterations=15, residual=21.97365825035258), IKsolution(q=array([-2.31869209e+00, -3.23410340e+05, -3.23408114e+05, -3.23402784e+05,  8.29309888e-01, -3.23408088e+05]), success=True, reason='Optimization terminated successfully', iterations=18, residual=21.628524732423333), IKsolution(q=array([-2.32026095e+00, -3.23410346e+05, -3.23408114e+05, -3.23402779e+05,  8.30517436e-01, -3.23408087e+05]), success=True, reason='Optimization terminated successfully', iterations=16, residual=21.235516547360056), IKsolution(q=array([-2.32203315e+00, -3.23410354e+05, -3.23408114e+05, -3.23402775e+05,  8.31884818e-01, -3.23408085e+05]), success=True, reason='Optimization terminated successfully', iterations=14, residual=20.79686417602048), IKsolution(q=array([-2.32400572e+00, -3.23410362e+05, -3.23408114e+05, -3.23402769e+05,  8.33410650e-01, -3.23408083e+05]), success=True, reason='Optimization terminated successfully', iterations=13, residual=20.315089930981856), IKsolution(q=array([-2.32617523e+00, -3.23410372e+05, -3.23408114e+05, -3.23402763e+05,  8.35093351e-01, -3.23408080e+05]), success=True, reason='Optimization terminated successfully', iterations=17, residual=19.79300557043205), IKsolution(q=array([-2.32853749e+00, -3.23410383e+05, -3.23408114e+05, -3.23402755e+05,  8.36930688e-01, -3.23408078e+05]), success=True, reason='Optimization terminated successfully', iterations=16, residual=19.233709440025866), IKsolution(q=array([-2.33108691e+00, -3.23410395e+05, -3.23408114e+05, -3.23402747e+05,  8.38919330e-01, -3.23408075e+05]), success=True, reason='Optimization terminated successfully', iterations=16, residual=18.640583066802176), IKsolution(q=array([-2.33381745e+00, -3.23410408e+05, -3.23408114e+05, -3.23402738e+05,  8.41055387e-01, -3.23408072e+05]), success=True, reason='Optimization terminated successfully', iterations=19, residual=18.017287115010788), IKsolution(q=array([-2.33672138e+00, -3.23410423e+05, -3.23408114e+05, -3.23402728e+05,  8.43333912e-01, -3.23408069e+05]), success=True, reason='Optimization terminated successfully', iterations=12, residual=17.36775659798701), IKsolution(q=array([-2.33978936e+00, -3.23410440e+05, -3.23408114e+05, -3.23402717e+05,  8.45747580e-01, -3.23408066e+05]), success=True, reason='Optimization terminated successfully', iterations=10, residual=16.696195223485073), IKsolution(q=array([-2.34296690e+00, -3.23410458e+05, -3.23408114e+05, -3.23402705e+05,  8.48253792e-01, -3.23408062e+05]), success=True, reason='Optimization terminated successfully', iterations=14, residual=16.01617383273217), IKsolution(q=array([-2.34610578e+00, -3.23410476e+05, -3.23408114e+05, -3.23402691e+05,  8.50735102e-01, -3.23408058e+05]), success=True, reason='Optimization terminated successfully', iterations=20, residual=15.359724345392227), IKsolution(q=array([-2.34919044e+00, -3.23410495e+05, -3.23408114e+05, -3.23402678e+05,  8.53177680e-01, -3.23408055e+05]), success=True, reason='Optimization terminated successfully', iterations=19, residual=14.729108743536841), IKsolution(q=array([-2.35221615e+00, -3.23410515e+05, -3.23408114e+05, -3.23402663e+05,  8.55576751e-01, -3.23408051e+05]), success=True, reason='Optimization terminated successfully', iterations=21, residual=14.124218315553723), IKsolution(q=array([-2.35517812e+00, -3.23410536e+05, -3.23408114e+05, -3.23402648e+05,  8.57927221e-01, -3.23408047e+05]), success=True, reason='Optimization terminated successfully', iterations=21, residual=13.544938645250445), IKsolution(q=array([-2.35807117e+00, -3.23410557e+05, -3.23408114e+05, -3.23402633e+05,  8.60223463e-01, -3.23408044e+05]), success=True, reason='Optimization terminated successfully', iterations=16, residual=12.991149528479292), IKsolution(q=array([-2.36088996e+00, -3.23410580e+05, -3.23408114e+05, -3.23402616e+05,  8.62459972e-01, -3.23408040e+05]), success=True, reason='Optimization terminated successfully', iterations=15, residual=12.462724942927554), IKsolution(q=array([-2.36362891e+00, -3.23410603e+05, -3.23408114e+05, -3.23402599e+05,  8.64630922e-01, -3.23408036e+05]), success=True, reason='Optimization terminated successfully', iterations=22, residual=11.959533083254662), IKsolution(q=array([-2.36628228e+00, -3.23410626e+05, -3.23408114e+05, -3.23402581e+05,  8.66730207e-01, -3.23408033e+05]), success=True, reason='Optimization terminated successfully', iterations=19, residual=11.481436475010204), IKsolution(q=array([-2.36884389e+00, -3.23410651e+05, -3.23408114e+05, -3.23402563e+05,  8.68751534e-01, -3.23408029e+05]), success=True, reason='Optimization terminated successfully', iterations=12, residual=11.028292181839847), IKsolution(q=array([-2.37130753e+00, -3.23410676e+05, -3.23408114e+05, -3.23402543e+05,  8.70688370e-01, -3.23408025e+05]), success=True, reason='Optimization terminated successfully', iterations=17, residual=10.599952121253203), IKsolution(q=array([-2.37366658e+00, -3.23410703e+05, -3.23408114e+05, -3.23402523e+05,  8.72534028e-01, -3.23408021e+05]), success=True, reason='Optimization terminated successfully', iterations=14, residual=10.19626350453883), IKsolution(q=array([-2.37591436e+00, -3.23410730e+05, -3.23408114e+05, -3.23402502e+05,  8.74281618e-01, -3.23408017e+05]), success=True, reason='Optimization terminated successfully', iterations=16, residual=9.817069416091242), IKsolution(q=array([-2.37804373e+00, -3.23410758e+05, -3.23408114e+05, -3.23402480e+05,  8.75923875e-01, -3.23408013e+05]), success=True, reason='Optimization terminated successfully', iterations=10, residual=9.462209546271342), IKsolution(q=array([-2.38004772e+00, -3.23410787e+05, -3.23408114e+05, -3.23402458e+05,  8.77453636e-01, -3.23408009e+05]), success=True, reason='Optimization terminated successfully', iterations=13, residual=9.131521089758229), IKsolution(q=array([-2.38191882e+00, -3.23410816e+05, -3.23408114e+05, -3.23402434e+05,  8.78863339e-01, -3.23408005e+05]), success=True, reason='Optimization terminated successfully', iterations=12, residual=8.824839817983971), IKsolution(q=array([-2.38364372e+00, -3.23410847e+05, -3.23408114e+05, -3.23402410e+05,  8.80141032e-01, -3.23408001e+05]), success=True, reason='Optimization terminated successfully', iterations=19, residual=8.542923138824042), IKsolution(q=array([-2.38514963e+00, -3.23410876e+05, -3.23408114e+05, -3.23402387e+05,  8.81232545e-01, -3.23407997e+05]), success=True, reason='Optimization terminated successfully', iterations=13, residual=8.296339773735683), IKsolution(q=array([-2.38643174e+00, -3.23410905e+05, -3.23408114e+05, -3.23402364e+05,  8.82137006e-01, -3.23407993e+05]), success=True, reason='Optimization terminated successfully', iterations=19, residual=8.084849599704906), IKsolution(q=array([-2.38751054e+00, -3.23410932e+05, -3.23408114e+05, -3.23402343e+05,  8.82872734e-01, -3.23407990e+05]), success=True, reason='Optimization terminated successfully', iterations=10, residual=7.904517255774313), IKsolution(q=array([-2.38840665e+00, -3.23410957e+05, -3.23408114e+05, -3.23402323e+05,  8.83458365e-01, -3.23407986e+05]), success=True, reason='Optimization terminated successfully', iterations=13, residual=7.751715323608534), IKsolution(q=array([-2.38914074e+00, -3.23410981e+05, -3.23408114e+05, -3.23402304e+05,  8.83912801e-01, -3.23407983e+05]), success=True, reason='Optimization terminated successfully', iterations=13, residual=7.6231157018425675), IKsolution(q=array([-2.38973293e+00, -3.23411003e+05, -3.23408114e+05, -3.23402287e+05,  8.84254368e-01, -3.23407980e+05]), success=True, reason='Optimization terminated successfully', iterations=12, residual=7.515681588577828), IKsolution(q=array([-2.39020280e+00, -3.23411023e+05, -3.23408114e+05, -3.23402271e+05,  8.84501308e-01, -3.23407977e+05]), success=True, reason='Optimization terminated successfully', iterations=17, residual=7.426660244673415), IKsolution(q=array([-2.39056889e+00, -3.23411041e+05, -3.23408114e+05, -3.23402256e+05,  8.84670842e-01, -3.23407975e+05]), success=True, reason='Optimization terminated successfully', iterations=17, residual=7.353576640565382), IKsolution(q=array([-2.39084833e+00, -3.23411057e+05, -3.23408114e+05, -3.23402244e+05,  8.84779062e-01, -3.23407973e+05]), success=True, reason='Optimization terminated successfully', iterations=17, residual=7.294228024991105), IKsolution(q=array([-2.39105692e+00, -3.23411071e+05, -3.23408114e+05, -3.23402232e+05,  8.84840941e-01, -3.23407971e+05]), success=True, reason='Optimization terminated successfully', iterations=16, residual=7.2466794001044805), IKsolution(q=array([-2.39120870e+00, -3.23411083e+05, -3.23408114e+05, -3.23402223e+05,  8.84869637e-01, -3.23407969e+05]), success=True, reason='Optimization terminated successfully', iterations=14, residual=7.2092598467158995), IKsolution(q=array([-2.39131582e+00, -3.23411093e+05, -3.23408114e+05, -3.23402215e+05,  8.84876813e-01, -3.23407968e+05]), success=True, reason='Optimization terminated successfully', iterations=17, residual=7.180559616492528), IKsolution(q=array([-2.39138836e+00, -3.23411101e+05, -3.23408114e+05, -3.23402209e+05,  8.84871933e-01, -3.23407967e+05]), success=True, reason='Optimization terminated successfully', iterations=11, residual=7.1594278941502205), IKsolution(q=array([-2.39143443e+00, -3.23411106e+05, -3.23408114e+05, -3.23402205e+05,  8.84863071e-01, -3.23407966e+05]), success=True, reason='Optimization terminated successfully', iterations=13, residual=7.144971130272064), IKsolution(q=array([-2.39145972e+00, -3.23411109e+05, -3.23408114e+05, -3.23402202e+05,  8.84855483e-01, -3.23407966e+05]), success=True, reason='Optimization terminated successfully', iterations=14, residual=7.136551852284289), IKsolution(q=array([-2.39146777e+00, -3.23411111e+05, -3.23408114e+05, -3.23402202e+05,  8.84852570e-01, -3.23407965e+05]), success=True, reason='Optimization terminated successfully', iterations=17, residual=7.13378787512868)]\n",
      "[IKsolution(q=array([-2.26371831e+00, -3.23410291e+05, -3.23408114e+05, -3.23402823e+05,  7.76318508e-01, -3.23408094e+05]), success=True, reason='Optimization terminated successfully', iterations=36, residual=21.93964287827197), IKsolution(q=array([-2.26380087e+00, -3.23410291e+05, -3.23408114e+05, -3.23402823e+05,  7.76400180e-01, -3.23408094e+05]), success=True, reason='Optimization terminated successfully', iterations=13, residual=21.941152930507787), IKsolution(q=array([-2.26404821e+00, -3.23410292e+05, -3.23408114e+05, -3.23402822e+05,  7.76644432e-01, -3.23408094e+05]), success=True, reason='Optimization terminated successfully', iterations=14, residual=21.94568440119579), IKsolution(q=array([-2.26446042e+00, -3.23410292e+05, -3.23408114e+05, -3.23402822e+05,  7.77051777e-01, -3.23408094e+05]), success=True, reason='Optimization terminated successfully', iterations=13, residual=21.95324123239883), IKsolution(q=array([-2.26503657e+00, -3.23410292e+05, -3.23408114e+05, -3.23402822e+05,  7.77620952e-01, -3.23408094e+05]), success=True, reason='Optimization terminated successfully', iterations=12, residual=21.963829994625108), IKsolution(q=array([-2.26577649e+00, -3.23410292e+05, -3.23408114e+05, -3.23402821e+05,  7.78351986e-01, -3.23408094e+05]), success=True, reason='Optimization terminated successfully', iterations=11, residual=21.977459887432726), IKsolution(q=array([-2.26667889e+00, -3.23410293e+05, -3.23408114e+05, -3.23402821e+05,  7.79243337e-01, -3.23408094e+05]), success=True, reason='Optimization terminated successfully', iterations=10, residual=21.994142740275457), IKsolution(q=array([-2.26774311e+00, -3.23410293e+05, -3.23408114e+05, -3.23402820e+05,  7.80294503e-01, -3.23408094e+05]), success=True, reason='Optimization terminated successfully', iterations=13, residual=22.013893013587975), IKsolution(q=array([-2.26896781e+00, -3.23410294e+05, -3.23408114e+05, -3.23402820e+05,  7.81503772e-01, -3.23408094e+05]), success=True, reason='Optimization terminated successfully', iterations=10, residual=22.03672780010994), IKsolution(q=array([-2.27035152e+00, -3.23410295e+05, -3.23408114e+05, -3.23402819e+05,  7.82869797e-01, -3.23408094e+05]), success=True, reason='Optimization terminated successfully', iterations=16, residual=22.062666826447174), IKsolution(q=array([-2.27189301e+00, -3.23410296e+05, -3.23408114e+05, -3.23402818e+05,  7.84391161e-01, -3.23408094e+05]), success=True, reason='Optimization terminated successfully', iterations=12, residual=22.091732454868403), IKsolution(q=array([-2.27359034e+00, -3.23410297e+05, -3.23408114e+05, -3.23402817e+05,  7.86066220e-01, -3.23408094e+05]), success=True, reason='Optimization terminated successfully', iterations=12, residual=22.12394968533529), IKsolution(q=array([-2.27544172e+00, -3.23410298e+05, -3.23408114e+05, -3.23402816e+05,  7.87892585e-01, -3.23408094e+05]), success=True, reason='Optimization terminated successfully', iterations=16, residual=22.15934615776479), IKsolution(q=array([-2.27744510e+00, -3.23410299e+05, -3.23408114e+05, -3.23402815e+05,  7.89868364e-01, -3.23408094e+05]), success=True, reason='Optimization terminated successfully', iterations=12, residual=22.1979521545198), IKsolution(q=array([-2.27959848e+00, -3.23410300e+05, -3.23408114e+05, -3.23402814e+05,  7.91991504e-01, -3.23408094e+05]), success=True, reason='Optimization terminated successfully', iterations=16, residual=22.239800603127822), IKsolution(q=array([-2.28189906e+00, -3.23410301e+05, -3.23408114e+05, -3.23402813e+05,  7.94258718e-01, -3.23408094e+05]), success=True, reason='Optimization terminated successfully', iterations=13, residual=22.284927079223884), IKsolution(q=array([-2.28434492e+00, -3.23410303e+05, -3.23408114e+05, -3.23402812e+05,  7.96668396e-01, -3.23408094e+05]), success=True, reason='Optimization terminated successfully', iterations=18, residual=22.333369809716046), IKsolution(q=array([-2.28689845e+00, -3.23410304e+05, -3.23408114e+05, -3.23402811e+05,  7.99183216e-01, -3.23408094e+05]), success=True, reason='Optimization terminated successfully', iterations=14, residual=22.38447044653593), IKsolution(q=array([-2.28944530e+00, -3.23410305e+05, -3.23408114e+05, -3.23402809e+05,  8.01690430e-01, -3.23408094e+05]), success=True, reason='Optimization terminated successfully', iterations=14, residual=22.435979394580364), IKsolution(q=array([-2.29197687e+00, -3.23410307e+05, -3.23408114e+05, -3.23402808e+05,  8.04181740e-01, -3.23408094e+05]), success=True, reason='Optimization terminated successfully', iterations=19, residual=22.48772271608349), IKsolution(q=array([-2.29449331e+00, -3.23410308e+05, -3.23408114e+05, -3.23402807e+05,  8.06657220e-01, -3.23408094e+05]), success=True, reason='Optimization terminated successfully', iterations=15, residual=22.539700479631094), IKsolution(q=array([-2.29699492e+00, -3.23410310e+05, -3.23408114e+05, -3.23402805e+05,  8.09117260e-01, -3.23408094e+05]), success=True, reason='Optimization terminated successfully', iterations=17, residual=22.59191275365969), IKsolution(q=array([-2.29948151e+00, -3.23410311e+05, -3.23408114e+05, -3.23402804e+05,  8.11561579e-01, -3.23408094e+05]), success=True, reason='Optimization terminated successfully', iterations=11, residual=22.644359606459545), IKsolution(q=array([-2.30195339e+00, -3.23410313e+05, -3.23408114e+05, -3.23402803e+05,  8.13990652e-01, -3.23408094e+05]), success=True, reason='Optimization terminated successfully', iterations=14, residual=22.697041106177497), IKsolution(q=array([-2.30441048e+00, -3.23410314e+05, -3.23408114e+05, -3.23402801e+05,  8.16404153e-01, -3.23408094e+05]), success=True, reason='Optimization terminated successfully', iterations=13, residual=22.749957320819707), IKsolution(q=array([-2.30685311e+00, -3.23410315e+05, -3.23408114e+05, -3.23402800e+05,  8.18802748e-01, -3.23408094e+05]), success=True, reason='Optimization terminated successfully', iterations=13, residual=22.80310831825408), IKsolution(q=array([-2.30928133e+00, -3.23410317e+05, -3.23408114e+05, -3.23402799e+05,  8.21186339e-01, -3.23408094e+05]), success=True, reason='Optimization terminated successfully', iterations=14, residual=22.856494166212677), IKsolution(q=array([-2.31169537e+00, -3.23410318e+05, -3.23408114e+05, -3.23402798e+05,  8.23555201e-01, -3.23408094e+05]), success=True, reason='Optimization terminated successfully', iterations=16, residual=22.910114932293812), IKsolution(q=array([-2.31409494e+00, -3.23410320e+05, -3.23408114e+05, -3.23402796e+05,  8.25908982e-01, -3.23408093e+05]), success=True, reason='Optimization terminated successfully', iterations=15, residual=22.96397068396405), IKsolution(q=array([-2.31648082e+00, -3.23410321e+05, -3.23408114e+05, -3.23402795e+05,  8.28248760e-01, -3.23408093e+05]), success=True, reason='Optimization terminated successfully', iterations=13, residual=23.018061488559994), IKsolution(q=array([-2.31885251e+00, -3.23410322e+05, -3.23408114e+05, -3.23402794e+05,  8.30573686e-01, -3.23408093e+05]), success=True, reason='Optimization terminated successfully', iterations=16, residual=23.072387413290173), IKsolution(q=array([-2.32121029e+00, -3.23410324e+05, -3.23408114e+05, -3.23402792e+05,  8.32884203e-01, -3.23408093e+05]), success=True, reason='Optimization terminated successfully', iterations=15, residual=23.126948525236443), IKsolution(q=array([-2.32355447e+00, -3.23410325e+05, -3.23408114e+05, -3.23402791e+05,  8.35180720e-01, -3.23408093e+05]), success=True, reason='Optimization terminated successfully', iterations=16, residual=23.181744891355486), IKsolution(q=array([-2.32587703e+00, -3.23410327e+05, -3.23408114e+05, -3.23402790e+05,  8.37455213e-01, -3.23408093e+05]), success=True, reason='Optimization terminated successfully', iterations=15, residual=23.236588996951035), IKsolution(q=array([-2.32807602e+00, -3.23410328e+05, -3.23408114e+05, -3.23402789e+05,  8.39608019e-01, -3.23408093e+05]), success=True, reason='Optimization terminated successfully', iterations=14, residual=23.289029863714156), IKsolution(q=array([-2.33012233e+00, -3.23410329e+05, -3.23408114e+05, -3.23402788e+05,  8.41610935e-01, -3.23408093e+05]), success=True, reason='Optimization terminated successfully', iterations=14, residual=23.338279407125576), IKsolution(q=array([-2.33201817e+00, -3.23410330e+05, -3.23408114e+05, -3.23402787e+05,  8.43466122e-01, -3.23408093e+05]), success=True, reason='Optimization terminated successfully', iterations=14, residual=23.384299277325056), IKsolution(q=array([-2.33376507e+00, -3.23410331e+05, -3.23408114e+05, -3.23402786e+05,  8.45174779e-01, -3.23408093e+05]), success=True, reason='Optimization terminated successfully', iterations=18, residual=23.427053754799537), IKsolution(q=array([-2.33536584e+00, -3.23410332e+05, -3.23408114e+05, -3.23402785e+05,  8.46740378e-01, -3.23408093e+05]), success=True, reason='Optimization terminated successfully', iterations=12, residual=23.466509753510444), IKsolution(q=array([-2.33682155e+00, -3.23410333e+05, -3.23408114e+05, -3.23402784e+05,  8.48163946e-01, -3.23408093e+05]), success=True, reason='Optimization terminated successfully', iterations=10, residual=23.502636823778968), IKsolution(q=array([-2.33813392e+00, -3.23410334e+05, -3.23408114e+05, -3.23402783e+05,  8.49446925e-01, -3.23408093e+05]), success=True, reason='Optimization terminated successfully', iterations=14, residual=23.535407154932223), IKsolution(q=array([-2.33930445e+00, -3.23410335e+05, -3.23408114e+05, -3.23402783e+05,  8.50591025e-01, -3.23408093e+05]), success=True, reason='Optimization terminated successfully', iterations=11, residual=23.564795577713294), IKsolution(q=array([-2.34033449e+00, -3.23410336e+05, -3.23408114e+05, -3.23402782e+05,  8.51597670e-01, -3.23408093e+05]), success=True, reason='Optimization terminated successfully', iterations=12, residual=23.590779566454962), IKsolution(q=array([-2.34122496e+00, -3.23410336e+05, -3.23408114e+05, -3.23402782e+05,  8.52467951e-01, -3.23408093e+05]), success=True, reason='Optimization terminated successfully', iterations=13, residual=23.61333924102124), IKsolution(q=array([-2.34197687e+00, -3.23410337e+05, -3.23408114e+05, -3.23402781e+05,  8.53202702e-01, -3.23408093e+05]), success=True, reason='Optimization terminated successfully', iterations=11, residual=23.63245736851642), IKsolution(q=array([-2.34259084e+00, -3.23410337e+05, -3.23408114e+05, -3.23402781e+05,  8.53802450e-01, -3.23408093e+05]), success=True, reason='Optimization terminated successfully', iterations=18, residual=23.64811936476364), IKsolution(q=array([-2.34306773e+00, -3.23410337e+05, -3.23408114e+05, -3.23402781e+05,  8.54268336e-01, -3.23408093e+05]), success=True, reason='Optimization terminated successfully', iterations=14, residual=23.660313295554527), IKsolution(q=array([-2.34340815e+00, -3.23410337e+05, -3.23408114e+05, -3.23402780e+05,  8.54600982e-01, -3.23408093e+05]), success=True, reason='Optimization terminated successfully', iterations=18, residual=23.669029877669608), IKsolution(q=array([-2.34361218e+00, -3.23410338e+05, -3.23408114e+05, -3.23402780e+05,  8.54800264e-01, -3.23408093e+05]), success=True, reason='Optimization terminated successfully', iterations=11, residual=23.674262479671924), IKsolution(q=array([-2.34368007e+00, -3.23410338e+05, -3.23408114e+05, -3.23402780e+05,  8.54866462e-01, -3.23408093e+05]), success=True, reason='Optimization terminated successfully', iterations=15, residual=23.676007122472868)]\n"
     ]
    }
   ],
   "source": [
    "print(InvertrayecC1)\n",
    "print(InvertrayecC4)"
   ]
  },
  {
   "cell_type": "markdown",
   "metadata": {},
   "source": [
    "\n",
    "\n",
    "aplicando el metodo \"jtraj\", se calcula un polinomio de grado 5 para cada articulacion "
   ]
  },
  {
   "cell_type": "code",
   "execution_count": 98,
   "metadata": {},
   "outputs": [],
   "source": [
    "\n",
    "Trayec1 = rtb.jtraj(InvertrayecC1[0].q, InvertrayecC1[-1].q, 100)\n",
    "Trayec2 = rtb.jtraj(InvertrayecC2[0].q, InvertrayecC2[-1].q, 100)\n",
    "Trayec3 = rtb.jtraj(InvertrayecC3[0].q, InvertrayecC3[-1].q, 100)\n",
    "Trayec4 = rtb.jtraj(InvertrayecC4[0].q, InvertrayecC4[-1].q, 100)"
   ]
  },
  {
   "cell_type": "markdown",
   "metadata": {},
   "source": [
    "visualizacion animada del robot "
   ]
  },
  {
   "cell_type": "code",
   "execution_count": 101,
   "metadata": {},
   "outputs": [
    {
     "data": {
      "text/plain": [
       "Swift backend, t = 4.99999999999999, scene:\n",
       "  UR5"
      ]
     },
     "execution_count": 101,
     "metadata": {},
     "output_type": "execute_result"
    }
   ],
   "source": [
    "robot.plot(Trayec1.q,block=False)\n",
    "\n",
    "robot.plot(Trayec2.q,block=False)\n",
    "\n",
    "robot.plot(Trayec3.q,block=False)\n",
    "\n",
    "robot.plot(Trayec4.q,block=False)"
   ]
  }
 ],
 "metadata": {
  "interpreter": {
   "hash": "93dddadf73be5920959461f31d80d0451e43d655d66bacdec340cccbb0afad94"
  },
  "kernelspec": {
   "display_name": "Python 3.8.8 64-bit ('base': conda)",
   "name": "python3"
  },
  "language_info": {
   "codemirror_mode": {
    "name": "ipython",
    "version": 3
   },
   "file_extension": ".py",
   "mimetype": "text/x-python",
   "name": "python",
   "nbconvert_exporter": "python",
   "pygments_lexer": "ipython3",
   "version": "3.8.8"
  }
 },
 "nbformat": 4,
 "nbformat_minor": 2
}
